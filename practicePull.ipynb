{
 "cells": [
  {
   "cell_type": "code",
   "execution_count": null,
   "id": "9c41f988-04b8-43d5-92ad-8903aa08ac5c",
   "metadata": {},
   "outputs": [],
   "source": [
    "# pull 연습파일입니다"
   ]
  },
  {
   "cell_type": "code",
   "execution_count": null,
   "id": "bbd3d43f-6c12-4e51-8af4-cb2c10157def",
   "metadata": {},
   "outputs": [],
   "source": [
    "# 또 도전입니다!!"
   ]
  },
  {
   "cell_type": "code",
   "execution_count": null,
   "id": "19f458f8-47ef-4206-81fe-39810b147e2d",
   "metadata": {},
   "outputs": [],
   "source": [
    "# 연습 또 연습입니다."
   ]
  },
  {
   "cell_type": "code",
   "execution_count": null,
   "id": "a249b5fb-260d-425c-aca9-a93f63cdbe02",
   "metadata": {},
   "outputs": [],
   "source": [
    "# 분명한 것은 저번 주보다는 나아졌다는 것입니다.!!"
   ]
  },
  {
   "cell_type": "code",
   "execution_count": null,
   "id": "2cb22da1-87e9-40f7-b77a-43bf55dceb4b",
   "metadata": {},
   "outputs": [],
   "source": []
  }
 ],
 "metadata": {
  "kernelspec": {
   "display_name": "Python 3 (ipykernel)",
   "language": "python",
   "name": "python3"
  },
  "language_info": {
   "codemirror_mode": {
    "name": "ipython",
    "version": 3
   },
   "file_extension": ".py",
   "mimetype": "text/x-python",
   "name": "python",
   "nbconvert_exporter": "python",
   "pygments_lexer": "ipython3",
   "version": "3.9.12"
  }
 },
 "nbformat": 4,
 "nbformat_minor": 5
}

{
 "cells": [
  {
   "cell_type": "code",
   "execution_count": null,
   "id": "9c41f988-04b8-43d5-92ad-8903aa08ac5c",
   "metadata": {},
   "outputs": [],
   "source": [
    "# pull 연습파일입니다"
   ]
  },
  {
   "cell_type": "code",
   "execution_count": null,
   "id": "bbd3d43f-6c12-4e51-8af4-cb2c10157def",
   "metadata": {},
   "outputs": [],
   "source": [
    "# 또 도전입니다!!"
   ]
  }
 ],
 "metadata": {
  "kernelspec": {
   "display_name": "Python 3 (ipykernel)",
   "language": "python",
   "name": "python3"
  },
  "language_info": {
   "codemirror_mode": {
    "name": "ipython",
    "version": 3
   },
   "file_extension": ".py",
   "mimetype": "text/x-python",
   "name": "python",
   "nbconvert_exporter": "python",
   "pygments_lexer": "ipython3",
   "version": "3.9.12"
  }
 },
 "nbformat": 4,
 "nbformat_minor": 5
}

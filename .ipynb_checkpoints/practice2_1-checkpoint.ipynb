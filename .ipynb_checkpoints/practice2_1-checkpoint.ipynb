{
 "cells": [
  {
   "cell_type": "code",
   "execution_count": null,
   "id": "a2894221-e2af-49a0-aa37-e4a74e072970",
   "metadata": {},
   "outputs": [],
   "source": [
    "# practice2_1"
   ]
  },
  {
   "cell_type": "code",
   "execution_count": null,
   "id": "7244b764-8f32-4062-8bb1-dd44d24e224d",
   "metadata": {},
   "outputs": [],
   "source": [
    "# 또 연습입니다!!"
   ]
  },
  {
   "cell_type": "code",
   "execution_count": null,
   "id": "1216b3df-826c-4089-a283-6d8d2faa8fac",
   "metadata": {},
   "outputs": [],
   "source": []
  },
  {
   "cell_type": "code",
   "execution_count": null,
   "id": "44fe4737-75fb-4b44-9799-dd9b5f229c71",
   "metadata": {},
   "outputs": [],
   "source": []
  },
  {
   "cell_type": "code",
   "execution_count": null,
   "id": "1b31b6af-8f31-4566-b556-6d75360dd35c",
   "metadata": {},
   "outputs": [],
   "source": []
  }
 ],
 "metadata": {
  "kernelspec": {
   "display_name": "Python 3 (ipykernel)",
   "language": "python",
   "name": "python3"
  },
  "language_info": {
   "codemirror_mode": {
    "name": "ipython",
    "version": 3
   },
   "file_extension": ".py",
   "mimetype": "text/x-python",
   "name": "python",
   "nbconvert_exporter": "python",
   "pygments_lexer": "ipython3",
   "version": "3.9.12"
  }
 },
 "nbformat": 4,
 "nbformat_minor": 5
}
